{
 "cells": [
  {
   "cell_type": "code",
   "execution_count": 1,
   "metadata": {
    "collapsed": false
   },
   "outputs": [
    {
     "ename": "ImportError",
     "evalue": "No module named pycocotools.coco",
     "output_type": "error",
     "traceback": [
      "\u001b[0;31m---------------------------------------------------------------------------\u001b[0m",
      "\u001b[0;31mImportError\u001b[0m                               Traceback (most recent call last)",
      "\u001b[0;32m<ipython-input-1-d6e857d7ae28>\u001b[0m in \u001b[0;36m<module>\u001b[0;34m()\u001b[0m\n\u001b[1;32m      1\u001b[0m \u001b[0mget_ipython\u001b[0m\u001b[0;34m(\u001b[0m\u001b[0;34m)\u001b[0m\u001b[0;34m.\u001b[0m\u001b[0mmagic\u001b[0m\u001b[0;34m(\u001b[0m\u001b[0;34mu'matplotlib inline'\u001b[0m\u001b[0;34m)\u001b[0m\u001b[0;34m\u001b[0m\u001b[0m\n\u001b[0;32m----> 2\u001b[0;31m \u001b[0;32mfrom\u001b[0m \u001b[0mpycocotools\u001b[0m\u001b[0;34m.\u001b[0m\u001b[0mcoco\u001b[0m \u001b[0;32mimport\u001b[0m \u001b[0mCOCO\u001b[0m\u001b[0;34m\u001b[0m\u001b[0m\n\u001b[0m\u001b[1;32m      3\u001b[0m \u001b[0;32mimport\u001b[0m \u001b[0msys\u001b[0m\u001b[0;34m\u001b[0m\u001b[0m\n\u001b[1;32m      4\u001b[0m \u001b[0;32mimport\u001b[0m \u001b[0mnumpy\u001b[0m \u001b[0;32mas\u001b[0m \u001b[0mnp\u001b[0m\u001b[0;34m\u001b[0m\u001b[0m\n\u001b[1;32m      5\u001b[0m \u001b[0;32mimport\u001b[0m \u001b[0mskimage\u001b[0m\u001b[0;34m.\u001b[0m\u001b[0mio\u001b[0m \u001b[0;32mas\u001b[0m \u001b[0mio\u001b[0m\u001b[0;34m\u001b[0m\u001b[0m\n",
      "\u001b[0;31mImportError\u001b[0m: No module named pycocotools.coco"
     ]
    }
   ],
   "source": [
    "%matplotlib inline\n",
    "from pycocotools.coco import COCO\n",
    "import sys\n",
    "import numpy as np\n",
    "import skimage.io as io\n",
    "import matplotlib.pyplot as plt\n",
    "import pylab\n",
    "pylab.rcParams['figure.figsize'] = (10.0, 8.0)"
   ]
  },
  {
   "cell_type": "code",
   "execution_count": 2,
   "metadata": {
    "collapsed": true
   },
   "outputs": [],
   "source": [
    "dataDir='..'\n",
    "dataType='val2014'\n",
    "annFile='%s/annotations/instances_%s.json'%(dataDir,dataType)"
   ]
  },
  {
   "cell_type": "code",
   "execution_count": 3,
   "metadata": {
    "collapsed": false
   },
   "outputs": [
    {
     "name": "stdout",
     "output_type": "stream",
     "text": [
      "loading annotations into memory...\n",
      "Done (t=8.40s)\n",
      "creating index...\n",
      "index created!\n"
     ]
    }
   ],
   "source": [
    "# initialize COCO api for instance annotations\n",
    "coco_instance=COCO(annFile)"
   ]
  },
  {
   "cell_type": "code",
   "execution_count": 4,
   "metadata": {
    "collapsed": false
   },
   "outputs": [
    {
     "name": "stdout",
     "output_type": "stream",
     "text": [
      "loading annotations into memory...\n",
      "Done (t=0.91s)\n",
      "creating index...\n",
      "index created!\n"
     ]
    }
   ],
   "source": [
    "# initialize COCO api for caption annotations\n",
    "annFile = '%s/annotations/captions_%s.json'%(dataDir,dataType)\n",
    "coco_caps=COCO(annFile)"
   ]
  },
  {
   "cell_type": "code",
   "execution_count": 14,
   "metadata": {
    "collapsed": false
   },
   "outputs": [
    {
     "name": "stdout",
     "output_type": "stream",
     "text": [
      "\n"
     ]
    }
   ],
   "source": [
    "# load word dictionnary\n",
    "d = 50 #100 or 200\n",
    "#vector_db = 'glove.twitter.27B'\n",
    "vector_db = 'glove.6B'\n",
    "PATH_VECTORS = \"../glove/%s/%s.%dd.txt\" % (vector_db,vector_db,d)\n",
    "\n",
    "with open(PATH_VECTORS, 'r') as f:\n",
    "    word_vectors = {}\n",
    "    for line in f:\n",
    "        vals = line.rstrip().split(' ')\n",
    "        word_vectors[unicode(vals[0],\"utf-8\")] = map(float, vals[1:])"
   ]
  },
  {
   "cell_type": "code",
   "execution_count": 16,
   "metadata": {
    "collapsed": false
   },
   "outputs": [
    {
     "name": "stdout",
     "output_type": "stream",
     "text": [
      "[0.50905, -0.36805, 0.41275, -0.44637, -0.017932, -0.12425, -0.43753, 0.52016, -0.1449, -0.83957, -0.32243, -0.71141, -0.43867, -0.13184, -0.27728, 0.011158, 0.097582, 0.5546, -1.3955, -0.58442, 0.25271, 0.74644, -0.18067, -0.46553, -0.09358, -1.4951, 0.2663, 0.55315, 1.103, -0.06003, 3.0834, -0.57123, -0.91293, -0.52011, 0.057919, 0.8553, 0.75373, -1.2263, 0.60596, 0.76143, -0.02809, -0.077767, -0.10431, -0.50895, 0.92005, 0.21507, -0.29191, -0.03356, 0.056012, -0.43283]\n"
     ]
    }
   ],
   "source": [
    "# example of glove vector from the dictionnary\n",
    "print word_vectors[u\"fire\"]"
   ]
  },
  {
   "cell_type": "code",
   "execution_count": 11,
   "metadata": {
    "collapsed": false
   },
   "outputs": [
    {
     "name": "stdout",
     "output_type": "stream",
     "text": [
      "40504 image names loaded as val2014\n",
      "10000 image names loaded as train_sub\n",
      "2000 image names loaded as test_sub\n"
     ]
    }
   ],
   "source": [
    "# store the whole val2014 images\n",
    "imgs_val2014 = coco_instance.loadImgs(coco_instance.getImgIds())\n",
    "nbImages = len(imgs_val2014)\n",
    "print(\"%d image names loaded as val2014\" % nbImages) \n",
    "\n",
    "# loop over the 5k first images in the val database\n",
    "imgs_train_sub = coco_instance.loadImgs(coco_instance.getImgIds()[:10000])\n",
    "#imgsNames = [img['file_name'] for img in imgs]\n",
    "#imgsIds = [img['id'] for img in imgs]\n",
    "nbImages = len(imgs_train_sub)\n",
    "print(\"%d image names loaded as train_sub\" % nbImages)\n",
    "\n",
    "\n",
    "# loop over the test database in the val database\n",
    "imgs_test_sub = coco_instance.loadImgs(coco_instance.getImgIds()[10000:12000])\n",
    "#imgsNames = [img['file_name'] for img in imgs]\n",
    "#imgsIds = [img['id'] for img in imgs]\n",
    "nbImages = len(imgs_test_sub)\n",
    "print(\"%d image names loaded as test_sub\" % nbImages)"
   ]
  },
  {
   "cell_type": "code",
   "execution_count": 20,
   "metadata": {
    "collapsed": false
   },
   "outputs": [
    {
     "name": "stdout",
     "output_type": "stream",
     "text": [
      "catstat_val2014\n",
      "{u'toilet': 0.005012419700214133, u'fire hydrant': 0.0022269807280513917, u'sports ball': 0.00759914346895075, u'bicycle': 0.008476231263383297, u'kite': 0.009771306209850106, u'laptop': 0.006119057815845825, u'potted plant': 0.010542184154175589, u'tennis racket': 0.005570877944325482, u'teddy bear': 0.005283083511777302, u'donut': 0.008702355460385438, u'snowboard': 0.0027203426124197, u'carrot': 0.009195717344753747, u'motorcycle': 0.010535331905781585, u'oven': 0.004025695931477516, u'keyboard': 0.0035220556745182013, u'scissors': 0.0015211991434689507, u'chair': 0.045002141327623126, u'couch': 0.006602141327623126, u'mouse': 0.002915631691648822, u'airplane': 0.004950749464668094, u'boat': 0.012330620985010707, u'apple': 0.006105353319057816, u'sheep': 0.011018415417558887, u'horse': 0.007516916488222698, u'sandwich': 0.005005567451820129, u'banana': 0.010021413276231263, u'cup': 0.024106209850107068, u'tv': 0.007047537473233405, u'backpack': 0.00990492505353319, u'toaster': 0.000267237687366167, u'bowl': 0.016856531049250535, u'microwave': 0.0018466809421841541, u'bench': 0.011991434689507495, u'book': 0.029331049250535333, u'elephant': 0.006382869379014989, u'orange': 0.007157173447537473, u'tie': 0.007719057815845825, u'stop sign': 0.002350321199143469, u'knife': 0.008770877944325482, u'pizza': 0.0072119914346895075, u'fork': 0.006084796573875803, u'hair drier': 0.00025353319057815847, u'frisbee': 0.003203426124197002, u'umbrella': 0.01363254817987152, u'parking meter': 0.0017541755888650964, u'bus': 0.00694475374732334, u'suitcase': 0.007688222698072805, u'bear': 0.0015828693790149893, u'vase': 0.007767023554603855, u'toothbrush': 0.0021721627408993575, u'spoon': 0.007301070663811563, u'train': 0.0054886509635974304, u'sink': 0.006516488222698073, u'wine glass': 0.009038115631691648, u'handbag': 0.014101927194860813, u'cell phone': 0.007660813704496788, u'bird': 0.01355374732334047, u'broccoli': 0.009240256959314776, u'refrigerator': 0.0030423982869379014, u'remote': 0.006386295503211991, u'surfboard': 0.007653961456102784, u'cow': 0.009733618843683083, u'dining table': 0.017966595289079228, u'hot dog': 0.0035014989293361883, u'car': 0.05143982869379015, u'clock': 0.007787580299785867, u'skateboard': 0.005858672376873661, u'dog': 0.00668779443254818, u'bed': 0.004967880085653105, u'cat': 0.0057182012847965735, u'person': 0.3020231263383298, u'skis': 0.007499785867237687, u'giraffe': 0.006053961456102784, u'truck': 0.011436402569593147, u'bottle': 0.028724625267665952, u'baseball bat': 0.0035014989293361883, u'cake': 0.007256531049250535, u'baseball glove': 0.004131905781584583, u'traffic light': 0.01494475374732334, u'zebra': 0.0064616702355460385}\n",
      "1.0\n",
      "catstat_train\n",
      "{u'toilet': 0.005233331001189393, u'fire hydrant': 0.0023647939550829077, u'sports ball': 0.007416217728958232, u'bicycle': 0.008129853774574966, u'kite': 0.010998390820681452, u'laptop': 0.005890995592247953, u'potted plant': 0.009725040229482963, u'tennis racket': 0.0055691597285384455, u'teddy bear': 0.005611138319457077, u'donut': 0.007640103547190933, u'snowboard': 0.0028265584551878543, u'carrot': 0.009697054502203876, u'motorcycle': 0.010858462184286015, u'oven': 0.003959980409990905, u'keyboard': 0.003092422864339187, u'scissors': 0.0015532078639893653, u'chair': 0.041852655145875606, u'couch': 0.006240817183236549, u'mouse': 0.003008465682501924, u'airplane': 0.006240817183236549, u'boat': 0.014426642412369692, u'apple': 0.005233331001189393, u'sheep': 0.012369691457356748, u'horse': 0.007234310501644162, u'sandwich': 0.005261316728468481, u'banana': 0.0096410830476457, u'cup': 0.02370391100538725, u'tv': 0.006296788637794724, u'backpack': 0.00952914013852935, u'toaster': 0.00034982159098859584, u'bowl': 0.01733715804939481, u'microwave': 0.00167914363674526, u'bench': 0.011963898411809977, u'book': 0.028419506051913523, u'elephant': 0.006576645910585602, u'orange': 0.007416217728958232, u'tie': 0.007290281956202337, u'stop sign': 0.0021968795914083816, u'knife': 0.008423703911005387, u'pizza': 0.007024417547051004, u'fork': 0.0056251311830966206, u'hair drier': 0.00019590009095361366, u'frisbee': 0.0033303015462114323, u'umbrella': 0.01540614286713776, u'parking meter': 0.00167914363674526, u'bus': 0.007080389001609179, u'suitcase': 0.006744560274260128, u'bear': 0.001511229273070734, u'vase': 0.007416217728958232, u'toothbrush': 0.002000979500454768, u'spoon': 0.007276289092562793, u'train': 0.00569509550129434, u'sink': 0.006772546001539215, u'wine glass': 0.008815504092912615, u'handbag': 0.015616035821730918, u'cell phone': 0.008073882320016792, u'bird': 0.014328692366892885, u'broccoli': 0.0096410830476457, u'refrigerator': 0.0032463443643741693, u'remote': 0.005849017001329322, u'surfboard': 0.00791996081998181, u'cow': 0.011194290911635067, u'dining table': 0.017547051003987967, u'hot dog': 0.003973973273630449, u'car': 0.049380815783950184, u'clock': 0.00825578954733086, u'skateboard': 0.006324774365073812, u'dog': 0.007052403274330091, u'bed': 0.00485552368292171, u'cat': 0.0055411740012593575, u'person': 0.3060519135241027, u'skis': 0.007066396137969636, u'giraffe': 0.006128874274120199, u'truck': 0.011404183866228223, u'bottle': 0.027286084097110475, u'baseball bat': 0.0035262016371650456, u'cake': 0.0060309242286433916, u'baseball glove': 0.003945987546351361, u'traffic light': 0.013685020639473869, u'zebra': 0.006240817183236549}\n",
      "1.0\n",
      "catstat_test\n",
      "{u'toilet': 0.004377780967417827, u'fire hydrant': 0.002368307736471939, u'sports ball': 0.004449547868523037, u'bicycle': 0.009401464044782546, u'kite': 0.013851011913305584, u'train': 0.004951916176259509, u'laptop': 0.0055978182862064015, u'carrot': 0.008181426725993972, u'teddy bear': 0.004377780967417827, u'dog': 0.008324960528204393, u'stop sign': 0.001076503516578154, u'sandwich': 0.00516721687957514, u'motorcycle': 0.008755561934835654, u'oven': 0.0040189464618917755, u'keyboard': 0.004234247165207406, u'wine glass': 0.005382517582890771, u'chair': 0.03875412659681355, u'couch': 0.00775082531936271, u'mouse': 0.0032295105497344625, u'airplane': 0.006100186593942874, u'boat': 0.012487440792306587, u'apple': 0.01033443375915028, u'sheep': 0.0076790584182575, u'horse': 0.003947179560786565, u'cup': 0.02045356681498493, u'tv': 0.008755561934835654, u'backpack': 0.011339170374623224, u'toaster': 0.00028706760442084113, u'bowl': 0.01550165063872542, u'microwave': 0.002081240132051098, u'bench': 0.011123869671307593, u'book': 0.03157743648629252, u'scissors': 0.0011482704176833645, u'elephant': 0.004306014066312616, u'orange': 0.003947179560786565, u'tie': 0.007535524616047079, u'banana': 0.009688531649203387, u'knife': 0.007535524616047079, u'pizza': 0.006817855604994976, u'fork': 0.00523898378068035, u'hair drier': 0.0003588345055260514, u'frisbee': 0.004664848571838668, u'umbrella': 0.014425147122147266, u'parking meter': 0.002296540835366729, u'tennis racket': 0.004377780967417827, u'bus': 0.006028419692837663, u'bear': 0.0016506387254198365, u'vase': 0.011554471077938855, u'toothbrush': 0.0035165781541553038, u'spoon': 0.004593081670733458, u'giraffe': 0.008181426725993972, u'sink': 0.0070331563083106076, u'potted plant': 0.010549734462465911, u'handbag': 0.01334864360556911, u'cell phone': 0.0076790584182575, u'bird': 0.017511123869671307, u'broccoli': 0.01004736615472944, u'refrigerator': 0.0035165781541553038, u'remote': 0.006602554901679346, u'surfboard': 0.0076790584182575, u'cow': 0.006459021099468925, u'dining table': 0.019448830199511984, u'hot dog': 0.00251184153868236, u'car': 0.05411224343332855, u'clock': 0.00796612602267834, u'skateboard': 0.008253193627099182, u'snowboard': 0.002153007033156308, u'bed': 0.005741352088416822, u'cat': 0.00516721687957514, u'donut': 0.011267403473518013, u'skis': 0.009257930242572127, u'person': 0.3024257212573561, u'truck': 0.011554471077938855, u'bottle': 0.032438639299555046, u'suitcase': 0.006459021099468925, u'cake': 0.0071766901105210276, u'baseball glove': 0.0040189464618917755, u'baseball bat': 0.0034448112530500933, u'traffic light': 0.015860485144251472, u'zebra': 0.006530788000574135}\n",
      "1.0\n"
     ]
    }
   ],
   "source": [
    "# generate word category statistics over the train and test databases\n",
    "# and compare them over the full datatbase\n",
    "# test check to see if the subset is representative of the whole val2014\n",
    "\n",
    "catstat_val2014 = {}\n",
    "\n",
    "catstat_train = {}\n",
    "catstat_test = {}\n",
    "\n",
    "count_val2014 = 0\n",
    "for img in imgs_val2014:\n",
    "    annIds = coco_instance.getAnnIds(imgIds=img['id'])\n",
    "    anns = coco_instance.loadAnns(annIds)\n",
    "    for ann in anns:\n",
    "        count_val2014 += 1\n",
    "        instance = coco_instance.loadCats(ann['category_id'])[0]['name']\n",
    "        if instance in catstat_val2014.keys():\n",
    "            catstat_val2014[instance] += 1\n",
    "        else:\n",
    "            catstat_val2014[instance] = 1\n",
    "            \n",
    "count_train_sub = 0\n",
    "for img in imgs_train_sub:\n",
    "    annIds = coco_instance.getAnnIds(imgIds=img['id'])\n",
    "    anns = coco_instance.loadAnns(annIds)\n",
    "    \n",
    "    for ann in anns:\n",
    "        count_train_sub += 1\n",
    "        instance = coco_instance.loadCats(ann['category_id'])[0]['name']\n",
    "        if instance in catstat_train.keys():\n",
    "            catstat_train[instance] += 1\n",
    "        else:\n",
    "            catstat_train[instance] = 1\n",
    "\n",
    "count_test_sub = 0\n",
    "for img in imgs_test_sub:\n",
    "    annIds = coco_instance.getAnnIds(imgIds=img['id'])\n",
    "    anns = coco_instance.loadAnns(annIds)\n",
    "    \n",
    "    for ann in anns:\n",
    "        count_test_sub += 1\n",
    "        instance = coco_instance.loadCats(ann['category_id'])[0]['name']\n",
    "        if instance in catstat_test.keys():\n",
    "            catstat_test[instance] += 1\n",
    "        else:\n",
    "            catstat_test[instance] = 1\n",
    "\n",
    "# normalized stats\n",
    "n_keys_val2014 = len(imgs_val2014)\n",
    "n_keys_train = len(imgs_train_sub)\n",
    "n_keys_test = len(imgs_test_sub)\n",
    "\n",
    "for key in catstat_val2014.keys():\n",
    "    catstat_val2014[key] = float(catstat_val2014[key]) / count_val2014\n",
    "\n",
    "for key in catstat_train.keys():\n",
    "    catstat_train[key] = float(catstat_train[key]) / count_train_sub\n",
    "\n",
    "for key in catstat_test.keys():\n",
    "    catstat_test[key] = float(catstat_test[key]) / count_test_sub\n",
    "\n",
    "print 'catstat_val2014'\n",
    "print catstat_val2014\n",
    "print np.sum(catstat_val2014.values())\n",
    "print 'catstat_train'\n",
    "print catstat_train\n",
    "print np.sum(catstat_train.values())\n",
    "print 'catstat_test'\n",
    "print catstat_test\n",
    "print np.sum(catstat_test.values())\n"
   ]
  },
  {
   "cell_type": "code",
   "execution_count": 22,
   "metadata": {
    "collapsed": false
   },
   "outputs": [
    {
     "name": "stdout",
     "output_type": "stream",
     "text": [
      "train_database_word_vector_gen:10/5000         Saving features\n"
     ]
    }
   ],
   "source": [
    "# generate category word vectors over images in the train database\n",
    "words_train_sub = {}\n",
    "counter = 0\n",
    "\n",
    "for img in imgs_train_sub:\n",
    "    counter += 1\n",
    "    print '\\rtrain_database_word_vector_gen:%d/%d' % (counter,len(imgs_train_sub)),\n",
    "    sys.stdout.flush()\n",
    "    \n",
    "    annIds = coco_instance.getAnnIds(imgIds=img['id'])\n",
    "    anns = coco_instance.loadAnns(annIds)\n",
    "    den = 0\n",
    "    vector = np.zeros(len(word_vectors[word_vectors.keys()[0]]))\n",
    "    \n",
    "    for ann in anns:\n",
    "        instance = coco_instance.loadCats(ann['category_id'])[0]['name']\n",
    "        instance_words = instance.split()        \n",
    "\n",
    "        n_words_in_ann = 0\n",
    "        vect_tmp = np.zeros(vector.shape)\n",
    "\n",
    "        for word in instance_words:\n",
    "            if word in word_vectors.keys():\n",
    "                n_words_in_ann += 1\n",
    "                vect_tmp = vect_tmp + np.array(word_vectors[word])        \n",
    "            else:\n",
    "                print '\\nWORD NOT FOUND IN DICTIONNARY: %s' % word         \n",
    "\n",
    "        vect_tmp = vect_tmp / n_words_in_ann\n",
    "             \n",
    "        den += ann['area']\n",
    "        vector = vector + ann['area']*vect_tmp\n",
    "        #if instance in word_vectors.keys(): # an instance can have a various number of words like \"hot dog\", \"tennis racket\"\n",
    "        #   den += ann['area']\n",
    "        #  vector = vector + ann['area']*np.array(word_vectors[instance])\n",
    "        #else:\n",
    "        #   print '\\nWORD NOT FOUND IN DICTIONARY: %s' % instance\n",
    "    \n",
    "    if den==0:\n",
    "        words_train_sub[img['id']] = np.zeros(vector.shape)\n",
    "    else:\n",
    "        words_train_sub[img['id']] = vector / den\n",
    "    if counter==10:\n",
    "        break\n",
    "\n",
    "# Save image features\n",
    "print(\"\\nSaving features\")\n",
    "np.save('words_train_sub', words_train_sub) # save as .npy\n",
    "\n",
    "# to retrieve vector of image with id=10878\n",
    "# data = np.load('words_train_sub')\n",
    "# data[()][10878] gets the corresponding vectors"
   ]
  },
  {
   "cell_type": "code",
   "execution_count": null,
   "metadata": {
    "collapsed": true
   },
   "outputs": [],
   "source": [
    "# generate category word vectors over images in the test database\n",
    "words_test_sub = {}\n",
    "counter = 0\n",
    "\n",
    "for img in imgs_test_sub:\n",
    "    counter += 1\n",
    "    print '\\rtest_database_word_vector_gen:%d/%d' % (counter,len(imgs_test_sub)),\n",
    "    sys.stdout.flush()\n",
    "\n",
    "    annIds = coco_instance.getAnnIds(imgIds=img['id'])\n",
    "    anns = coco_instance.loadAnns(annIds)\n",
    "    den = 0\n",
    "    vector = np.zeros(len(word_vectors[word_vectors.keys()[0]]))\n",
    "\n",
    "    for ann in anns:\n",
    "        instance = coco_instance.loadCats(ann['category_id'])[0]['name']\n",
    "        instance_words = instance.split()\n",
    "\n",
    "        n_words_in_ann = 0\n",
    "        vect_tmp = np.zeros(vector.shape)\n",
    "\n",
    "        for word in instance_words:\n",
    "            if word in word_vectors.keys():\n",
    "                n_words_in_ann += 1\n",
    "                vect_tmp = vect_tmp + np.array(word_vectors[word])\n",
    "            else:\n",
    "                print '\\nWORD NOT FOUND IN DICTIONNARY: %s' % word\n",
    "\n",
    "        vect_tmp = vect_tmp / n_words_in_ann\n",
    "\n",
    "        den += ann['area']\n",
    "        vector = vector + ann['area']*vect_tmp\n",
    "        #if instance in word_vectors.keys(): # an instance can have a various number of words like \"hot dog\", \"tennis racket\"\n",
    "        #   den += ann['area']\n",
    "        #  vector = vector + ann['area']*np.array(word_vectors[instance])\n",
    "        #else:\n",
    "        #   print '\\nWORD NOT FOUND IN DICTIONARY: %s' % instance\n",
    "\n",
    "    if den==0:\n",
    "        words_train_sub[img['id']] = np.zeros(vector.shape)\n",
    "    else:\n",
    "        words_train_sub[img['id']] = vector / den\n",
    "\n",
    "# Save image features\n",
    "print(\"\\nSaving features\")\n",
    "np.save('words_test_sub', words_test_sub) # save as .npy"
   ]
  },
  {
   "cell_type": "code",
   "execution_count": null,
   "metadata": {
    "collapsed": true
   },
   "outputs": [],
   "source": []
  },
  {
   "cell_type": "code",
   "execution_count": null,
   "metadata": {
    "collapsed": true
   },
   "outputs": [],
   "source": []
  },
  {
   "cell_type": "code",
   "execution_count": null,
   "metadata": {
    "collapsed": true
   },
   "outputs": [],
   "source": []
  }
 ],
 "metadata": {
  "kernelspec": {
   "display_name": "Python 2",
   "language": "python",
   "name": "python2"
  },
  "language_info": {
   "codemirror_mode": {
    "name": "ipython",
    "version": 2
   },
   "file_extension": ".py",
   "mimetype": "text/x-python",
   "name": "python",
   "nbconvert_exporter": "python",
   "pygments_lexer": "ipython2",
   "version": "2.7.12"
  }
 },
 "nbformat": 4,
 "nbformat_minor": 2
}
